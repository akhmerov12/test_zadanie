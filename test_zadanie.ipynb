{
 "cells": [
  {
   "cell_type": "code",
   "execution_count": 480,
   "id": "3c113ecc",
   "metadata": {},
   "outputs": [],
   "source": [
    "import pandas as pd\n",
    "import seaborn as sns\n",
    "import matplotlib.pyplot as plt\n",
    "\n",
    "%matplotlib inline"
   ]
  },
  {
   "cell_type": "code",
   "execution_count": 481,
   "id": "92ac7d5d",
   "metadata": {},
   "outputs": [],
   "source": [
    "def month(s: str) -> str:\n",
    "    return s[5:7]\n",
    "\n",
    "def year(s: str) -> str:\n",
    "    return s[:4]\n",
    "\n",
    "def rename_month(s: str) -> str:\n",
    "    month = {'05': 'Май', '06': 'Июнь', '07': 'Июль', '08': 'Август', '09': 'Сентябрь', '10': 'Октябрь', '11': 'Ноябрь'}\n",
    "    return(month[s])\n",
    "\n",
    "def order_month(index: int) -> str:\n",
    "    if index < 129:\n",
    "        return '05'\n",
    "    if index >= 129 and index < 258:\n",
    "        return '06'\n",
    "    if index >= 258 and index < 369:\n",
    "        return '07'\n",
    "    if index >= 369 and index < 484:\n",
    "        return '08'\n",
    "    if index >= 484 and index < 594:\n",
    "        return '09'\n",
    "    if index >= 594:\n",
    "        return '10'\n",
    "\n",
    "def day(s: str) -> str:\n",
    "    return s[8:10]\n",
    "\n",
    "def sale_bonus(s: float) -> float:\n",
    "    return s / 100 * 7\n",
    "\n",
    "def sale_bonus1(s: float) -> float:\n",
    "    if s > 10000:\n",
    "        return s / 100 * 5\n",
    "    else:\n",
    "        return s / 100 * 3\n",
    "\n",
    "def del_nan(s):\n",
    "    if s.isna() == True:\n",
    "        return 0\n",
    "    else:\n",
    "        return s"
   ]
  },
  {
   "cell_type": "code",
   "execution_count": 482,
   "id": "d916e94e",
   "metadata": {},
   "outputs": [],
   "source": [
    "df = pd.read_excel('data.xlsx')"
   ]
  },
  {
   "cell_type": "code",
   "execution_count": 483,
   "id": "2bf4fd23",
   "metadata": {},
   "outputs": [
    {
     "data": {
      "text/plain": [
       "int"
      ]
     },
     "execution_count": 483,
     "metadata": {},
     "output_type": "execute_result"
    }
   ],
   "source": [
    "\n",
    "df.index.rename('new_index', inplace= True )\n",
    "df.reset_index(inplace= True )\n",
    "df.head()\n",
    "type(df.index[0])"
   ]
  },
  {
   "cell_type": "code",
   "execution_count": 484,
   "id": "60e99804",
   "metadata": {},
   "outputs": [],
   "source": [
    "df['order_month'] = df.loc[df.status.isna() == False].new_index.apply(order_month)"
   ]
  },
  {
   "cell_type": "code",
   "execution_count": 485,
   "id": "ce5dfeb7",
   "metadata": {},
   "outputs": [
    {
     "data": {
      "text/plain": [
       "sum    859896.47\n",
       "dtype: float64"
      ]
     },
     "execution_count": 485,
     "metadata": {},
     "output_type": "execute_result"
    }
   ],
   "source": [
    "df.query(\"order_month == '07' and status != 'ПРОСРОЧЕНО'\").agg({'sum': sum})"
   ]
  },
  {
   "cell_type": "code",
   "execution_count": 488,
   "id": "d55272a1",
   "metadata": {},
   "outputs": [
    {
     "data": {
      "text/plain": [
       "sum    859896.47\n",
       "dtype: float64"
      ]
     },
     "execution_count": 488,
     "metadata": {},
     "output_type": "execute_result"
    }
   ],
   "source": [
    "len(df.receiving_date.unique())\n",
    "df['receiving_date']=df['receiving_date'].astype(str)\n",
    "df['receiving_month'] = df.loc[df.receiving_date.isna() == False].receiving_date.apply(month)\n",
    "df['receiving_year'] = df.loc[df.receiving_date.isna() == False].receiving_date.apply(year)\n",
    "df['receiving_day'] = df.loc[df.receiving_date.isna() == False].receiving_date.apply(day)\n",
    "df = df.rename(columns={'new/current': 'new_current'})\n",
    "df.query(\"order_month == '07'  and status != 'ПРОСРОЧЕНО'\").agg({'sum': sum})"
   ]
  },
  {
   "cell_type": "code",
   "execution_count": 489,
   "id": "e0f272eb",
   "metadata": {},
   "outputs": [],
   "source": [
    "profit = df.query(\"order_month != '' and status != 'ПРОСРОЧЕНО'\").groupby(['order_month'], as_index=False).agg({'sum': sum})"
   ]
  },
  {
   "cell_type": "code",
   "execution_count": 490,
   "id": "d7c377b4",
   "metadata": {},
   "outputs": [],
   "source": [
    "profit.order_month = profit.order_month.apply(rename_month)"
   ]
  },
  {
   "cell_type": "code",
   "execution_count": 491,
   "id": "093de1d7",
   "metadata": {},
   "outputs": [
    {
     "data": {
      "text/html": [
       "<div>\n",
       "<style scoped>\n",
       "    .dataframe tbody tr th:only-of-type {\n",
       "        vertical-align: middle;\n",
       "    }\n",
       "\n",
       "    .dataframe tbody tr th {\n",
       "        vertical-align: top;\n",
       "    }\n",
       "\n",
       "    .dataframe thead th {\n",
       "        text-align: right;\n",
       "    }\n",
       "</style>\n",
       "<table border=\"1\" class=\"dataframe\">\n",
       "  <thead>\n",
       "    <tr style=\"text-align: right;\">\n",
       "      <th></th>\n",
       "      <th>order_month</th>\n",
       "      <th>sum</th>\n",
       "    </tr>\n",
       "  </thead>\n",
       "  <tbody>\n",
       "    <tr>\n",
       "      <th>5</th>\n",
       "      <td>Октябрь</td>\n",
       "      <td>708690.24</td>\n",
       "    </tr>\n",
       "    <tr>\n",
       "      <th>4</th>\n",
       "      <td>Сентябрь</td>\n",
       "      <td>783616.78</td>\n",
       "    </tr>\n",
       "    <tr>\n",
       "      <th>3</th>\n",
       "      <td>Август</td>\n",
       "      <td>785467.99</td>\n",
       "    </tr>\n",
       "    <tr>\n",
       "      <th>0</th>\n",
       "      <td>Май</td>\n",
       "      <td>800668.49</td>\n",
       "    </tr>\n",
       "    <tr>\n",
       "      <th>1</th>\n",
       "      <td>Июнь</td>\n",
       "      <td>801442.41</td>\n",
       "    </tr>\n",
       "    <tr>\n",
       "      <th>2</th>\n",
       "      <td>Июль</td>\n",
       "      <td>859896.47</td>\n",
       "    </tr>\n",
       "  </tbody>\n",
       "</table>\n",
       "</div>"
      ],
      "text/plain": [
       "  order_month        sum\n",
       "5     Октябрь  708690.24\n",
       "4    Сентябрь  783616.78\n",
       "3      Август  785467.99\n",
       "0         Май  800668.49\n",
       "1        Июнь  801442.41\n",
       "2        Июль  859896.47"
      ]
     },
     "execution_count": 491,
     "metadata": {},
     "output_type": "execute_result"
    }
   ],
   "source": [
    "profit.sort_values('sum')"
   ]
  },
  {
   "cell_type": "code",
   "execution_count": 492,
   "id": "b583e886",
   "metadata": {},
   "outputs": [
    {
     "data": {
      "text/plain": [
       "Text(0.5, 1.0, 'Зависимость доходов от месяца')"
      ]
     },
     "execution_count": 492,
     "metadata": {},
     "output_type": "execute_result"
    },
    {
     "data": {
      "image/png": "[encoded data removed]",
      "text/plain": [
       "<Figure size 640x480 with 1 Axes>"
      ]
     },
     "metadata": {},
     "output_type": "display_data"
    }
   ],
   "source": [
    "ax = sns.barplot(x='order_month', y='sum', data=profit)\n",
    "plt.title('Зависимость доходов от месяца')"
   ]
  },
  {
   "cell_type": "code",
   "execution_count": 493,
   "id": "446a671f",
   "metadata": {},
   "outputs": [
    {
     "data": {
      "text/html": [
       "<div>\n",
       "<style scoped>\n",
       "    .dataframe tbody tr th:only-of-type {\n",
       "        vertical-align: middle;\n",
       "    }\n",
       "\n",
       "    .dataframe tbody tr th {\n",
       "        vertical-align: top;\n",
       "    }\n",
       "\n",
       "    .dataframe thead th {\n",
       "        text-align: right;\n",
       "    }\n",
       "</style>\n",
       "<table border=\"1\" class=\"dataframe\">\n",
       "  <thead>\n",
       "    <tr style=\"text-align: right;\">\n",
       "      <th></th>\n",
       "      <th>sale</th>\n",
       "      <th>sum</th>\n",
       "    </tr>\n",
       "  </thead>\n",
       "  <tbody>\n",
       "    <tr>\n",
       "      <th>4</th>\n",
       "      <td>Михайлов</td>\n",
       "      <td>4268.70</td>\n",
       "    </tr>\n",
       "    <tr>\n",
       "      <th>7</th>\n",
       "      <td>Соколов</td>\n",
       "      <td>35183.50</td>\n",
       "    </tr>\n",
       "    <tr>\n",
       "      <th>1</th>\n",
       "      <td>Васильев</td>\n",
       "      <td>45416.75</td>\n",
       "    </tr>\n",
       "    <tr>\n",
       "      <th>8</th>\n",
       "      <td>Филимонова</td>\n",
       "      <td>59514.47</td>\n",
       "    </tr>\n",
       "    <tr>\n",
       "      <th>3</th>\n",
       "      <td>Кузнецова</td>\n",
       "      <td>72228.40</td>\n",
       "    </tr>\n",
       "    <tr>\n",
       "      <th>2</th>\n",
       "      <td>Иванов</td>\n",
       "      <td>94770.60</td>\n",
       "    </tr>\n",
       "    <tr>\n",
       "      <th>5</th>\n",
       "      <td>Петрова</td>\n",
       "      <td>119724.86</td>\n",
       "    </tr>\n",
       "    <tr>\n",
       "      <th>0</th>\n",
       "      <td>Андреев</td>\n",
       "      <td>130983.80</td>\n",
       "    </tr>\n",
       "    <tr>\n",
       "      <th>6</th>\n",
       "      <td>Смирнов</td>\n",
       "      <td>221525.70</td>\n",
       "    </tr>\n",
       "  </tbody>\n",
       "</table>\n",
       "</div>"
      ],
      "text/plain": [
       "         sale        sum\n",
       "4    Михайлов    4268.70\n",
       "7     Соколов   35183.50\n",
       "1    Васильев   45416.75\n",
       "8  Филимонова   59514.47\n",
       "3   Кузнецова   72228.40\n",
       "2      Иванов   94770.60\n",
       "5     Петрова  119724.86\n",
       "0     Андреев  130983.80\n",
       "6     Смирнов  221525.70"
      ]
     },
     "execution_count": 493,
     "metadata": {},
     "output_type": "execute_result"
    }
   ],
   "source": [
    "df.query(\"order_month == '09' and status != 'ПРОСРОЧЕНО'\").groupby(['sale'], as_index=False).agg({'sum': sum}).sort_values('sum')"
   ]
  },
  {
   "cell_type": "code",
   "execution_count": 494,
   "id": "c865008d",
   "metadata": {},
   "outputs": [
    {
     "data": {
      "text/html": [
       "<div>\n",
       "<style scoped>\n",
       "    .dataframe tbody tr th:only-of-type {\n",
       "        vertical-align: middle;\n",
       "    }\n",
       "\n",
       "    .dataframe tbody tr th {\n",
       "        vertical-align: top;\n",
       "    }\n",
       "\n",
       "    .dataframe thead th {\n",
       "        text-align: right;\n",
       "    }\n",
       "</style>\n",
       "<table border=\"1\" class=\"dataframe\">\n",
       "  <thead>\n",
       "    <tr style=\"text-align: right;\">\n",
       "      <th></th>\n",
       "      <th>new_current</th>\n",
       "    </tr>\n",
       "    <tr>\n",
       "      <th>new_current</th>\n",
       "      <th></th>\n",
       "    </tr>\n",
       "  </thead>\n",
       "  <tbody>\n",
       "    <tr>\n",
       "      <th>новая</th>\n",
       "      <td>36</td>\n",
       "    </tr>\n",
       "    <tr>\n",
       "      <th>текущая</th>\n",
       "      <td>99</td>\n",
       "    </tr>\n",
       "  </tbody>\n",
       "</table>\n",
       "</div>"
      ],
      "text/plain": [
       "             new_current\n",
       "new_current             \n",
       "новая                 36\n",
       "текущая               99"
      ]
     },
     "execution_count": 494,
     "metadata": {},
     "output_type": "execute_result"
    }
   ],
   "source": [
    "df.query(\"order_month == '10'\").groupby(['new_current']).agg({'new_current': 'count'})"
   ]
  },
  {
   "cell_type": "code",
   "execution_count": 495,
   "id": "71847de3",
   "metadata": {},
   "outputs": [
    {
     "data": {
      "text/plain": [
       "order_month    77\n",
       "dtype: int64"
      ]
     },
     "execution_count": 495,
     "metadata": {},
     "output_type": "execute_result"
    }
   ],
   "source": [
    "df.query(\"order_month == '05' and receiving_month == '06'\").agg({'order_month': 'count'})"
   ]
  },
  {
   "cell_type": "code",
   "execution_count": 496,
   "id": "cbb8c47b",
   "metadata": {},
   "outputs": [],
   "source": [
    "salers = df.query(\"(status != 'ПРОСРОЧЕНО') and (new_current == 'новая' and status == 'ОПЛАЧЕНО' or new_current == 'текущая') and document == 'оригинал' and order_month < '07' and (receiving_month > '07' or receiving_month == '07' and receiving_day != '01')\")"
   ]
  },
  {
   "cell_type": "code",
   "execution_count": 497,
   "id": "bad7fe93",
   "metadata": {},
   "outputs": [],
   "source": [
    "salers_bonus_1 = salers.query(\"new_current == 'новая'\")"
   ]
  },
  {
   "cell_type": "code",
   "execution_count": 498,
   "id": "4eda029b",
   "metadata": {},
   "outputs": [],
   "source": [
    "salers_bonus_2 = salers.query(\"new_current == 'текущая'\")"
   ]
  },
  {
   "cell_type": "code",
   "execution_count": 501,
   "id": "ef5b7929",
   "metadata": {},
   "outputs": [
    {
     "name": "stderr",
     "output_type": "stream",
     "text": [
      "C:\\Users\\Aleksandr\\AppData\\Local\\Temp\\ipykernel_7744\\2937595411.py:1: SettingWithCopyWarning: \n",
      "A value is trying to be set on a copy of a slice from a DataFrame.\n",
      "Try using .loc[row_indexer,col_indexer] = value instead\n",
      "\n",
      "See the caveats in the documentation: https://pandas.pydata.org/pandas-docs/stable/user_guide/indexing.html#returning-a-view-versus-a-copy\n",
      "  salers_bonus_1['sale_bonus'] = salers_bonus_1['sum'].apply(sale_bonus)\n",
      "C:\\Users\\Aleksandr\\AppData\\Local\\Temp\\ipykernel_7744\\2937595411.py:2: SettingWithCopyWarning: \n",
      "A value is trying to be set on a copy of a slice from a DataFrame.\n",
      "Try using .loc[row_indexer,col_indexer] = value instead\n",
      "\n",
      "See the caveats in the documentation: https://pandas.pydata.org/pandas-docs/stable/user_guide/indexing.html#returning-a-view-versus-a-copy\n",
      "  salers_bonus_2['sale_bonus'] = salers_bonus_2['sum'].apply(sale_bonus)\n"
     ]
    }
   ],
   "source": [
    "salers_bonus_1['sale_bonus'] = salers_bonus_1['sum'].apply(sale_bonus)\n",
    "salers_bonus_2['sale_bonus'] = salers_bonus_2['sum'].apply(sale_bonus)\n",
    "bonus_1 = salers_bonus_1.groupby('sale').agg({'sale_bonus': sum})\n",
    "bonus_2 = salers_bonus_2.groupby('sale').agg({'sale_bonus': sum})\n",
    "bonus = bonus_2.merge(bonus_1, how='outer', on='sale')\n",
    "bonus['sale_bonus_y'] = bonus['sale_bonus_y']. fillna (0)\n",
    "bonus['bonus'] = bonus.sale_bonus_x + bonus.sale_bonus_y\n",
    "bonus = bonus.drop(['sale_bonus_x', 'sale_bonus_y'], axis='columns') "
   ]
  },
  {
   "cell_type": "code",
   "execution_count": 502,
   "id": "e86834d1",
   "metadata": {},
   "outputs": [
    {
     "data": {
      "text/html": [
       "<div>\n",
       "<style scoped>\n",
       "    .dataframe tbody tr th:only-of-type {\n",
       "        vertical-align: middle;\n",
       "    }\n",
       "\n",
       "    .dataframe tbody tr th {\n",
       "        vertical-align: top;\n",
       "    }\n",
       "\n",
       "    .dataframe thead th {\n",
       "        text-align: right;\n",
       "    }\n",
       "</style>\n",
       "<table border=\"1\" class=\"dataframe\">\n",
       "  <thead>\n",
       "    <tr style=\"text-align: right;\">\n",
       "      <th></th>\n",
       "      <th>bonus</th>\n",
       "    </tr>\n",
       "    <tr>\n",
       "      <th>sale</th>\n",
       "      <th></th>\n",
       "    </tr>\n",
       "  </thead>\n",
       "  <tbody>\n",
       "    <tr>\n",
       "      <th>Андреев</th>\n",
       "      <td>7002.1133</td>\n",
       "    </tr>\n",
       "    <tr>\n",
       "      <th>Васильев</th>\n",
       "      <td>2169.7690</td>\n",
       "    </tr>\n",
       "    <tr>\n",
       "      <th>Иванов</th>\n",
       "      <td>9990.6870</td>\n",
       "    </tr>\n",
       "    <tr>\n",
       "      <th>Кузнецова</th>\n",
       "      <td>9903.0281</td>\n",
       "    </tr>\n",
       "    <tr>\n",
       "      <th>Петрова</th>\n",
       "      <td>19157.9486</td>\n",
       "    </tr>\n",
       "    <tr>\n",
       "      <th>Селиванов</th>\n",
       "      <td>6578.7260</td>\n",
       "    </tr>\n",
       "    <tr>\n",
       "      <th>Смирнов</th>\n",
       "      <td>10618.4820</td>\n",
       "    </tr>\n",
       "    <tr>\n",
       "      <th>Соколов</th>\n",
       "      <td>628.1590</td>\n",
       "    </tr>\n",
       "    <tr>\n",
       "      <th>Филимонова</th>\n",
       "      <td>4438.6111</td>\n",
       "    </tr>\n",
       "  </tbody>\n",
       "</table>\n",
       "</div>"
      ],
      "text/plain": [
       "                 bonus\n",
       "sale                  \n",
       "Андреев      7002.1133\n",
       "Васильев     2169.7690\n",
       "Иванов       9990.6870\n",
       "Кузнецова    9903.0281\n",
       "Петрова     19157.9486\n",
       "Селиванов    6578.7260\n",
       "Смирнов     10618.4820\n",
       "Соколов       628.1590\n",
       "Филимонова   4438.6111"
      ]
     },
     "execution_count": 502,
     "metadata": {},
     "output_type": "execute_result"
    }
   ],
   "source": [
    "bonus.head(10)\n",
    "# котракты, полученные 01.07.2021 не были включены, так как выплаты за них были выплачены сразу при наступлении дня."
   ]
  },
  {
   "cell_type": "code",
   "execution_count": null,
   "id": "4e06798c",
   "metadata": {},
   "outputs": [],
   "source": []
  }
 ],
 "metadata": {
  "kernelspec": {
   "display_name": "Python 3 (ipykernel)",
   "language": "python",
   "name": "python3"
  },
  "language_info": {
   "codemirror_mode": {
    "name": "ipython",
    "version": 3
   },
   "file_extension": ".py",
   "mimetype": "text/x-python",
   "name": "python",
   "nbconvert_exporter": "python",
   "pygments_lexer": "ipython3",
   "version": "3.9.13"
  }
 },
 "nbformat": 4,
 "nbformat_minor": 5
}
